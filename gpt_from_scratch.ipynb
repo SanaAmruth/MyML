{
 "cells": [
  {
   "attachments": {},
   "cell_type": "markdown",
   "metadata": {},
   "source": [
    "# **Step by step process**\n",
    "- x_train y_train extraction\n",
    "- get_batch function\n",
    "- gpt class declaration\n",
    "    - layers present\n",
    "        - embedding (vocab,embed)\n",
    "        - positional embedding (vocab,embed)\n",
    "        - add them to get x\n",
    "        - Multi-headed attention(n_heads, head_dim = embed_dim)\n",
    "            - each_head\n",
    "                - key(embed, head_size/n_heads), query(embed, head_size/n_heads), value(embed, head_size/n_heads) # (B,T,head_size/n_head)\n",
    "            - concat in last dimension # (B,T,head_size)\n",
    "            - linear layer(head_size, vocab_size)\n",
    "    - forward pass\n",
    "    - generate/inference\n",
    "    - training function"
   ]
  },
  {
   "cell_type": "code",
   "execution_count": 27,
   "metadata": {},
   "outputs": [
    {
     "data": {
      "text/plain": [
       "<torch._C.Generator at 0x7fac0bce7bb0>"
      ]
     },
     "execution_count": 27,
     "metadata": {},
     "output_type": "execute_result"
    }
   ],
   "source": [
    "import torch\n",
    "import torch.nn as nn\n",
    "import torch.nn.functional as F\n",
    "from tqdm import tqdm\n",
    "import matplotlib.pyplot as plt\n",
    "torch.manual_seed(22)"
   ]
  },
  {
   "cell_type": "code",
   "execution_count": 28,
   "metadata": {},
   "outputs": [
    {
     "data": {
      "text/plain": [
       "1115394"
      ]
     },
     "execution_count": 28,
     "metadata": {},
     "output_type": "execute_result"
    }
   ],
   "source": [
    "#text extraction\n",
    "with open('/Users/sana/Desktop/tmp/input.txt', 'r') as file:\n",
    "    contents = file.read()\n",
    "len(contents)"
   ]
  },
  {
   "cell_type": "code",
   "execution_count": 29,
   "metadata": {},
   "outputs": [],
   "source": [
    "#train test split in text\n",
    "train_text, test_text = contents[:int(0.8*len(contents))],contents[int(0.8*len(contents)):]"
   ]
  },
  {
   "cell_type": "code",
   "execution_count": 30,
   "metadata": {},
   "outputs": [],
   "source": [
    "# vocabulary extraction\n",
    "vocab = sorted((set(list(contents))))\n",
    "vocab_size = len(vocab)"
   ]
  },
  {
   "cell_type": "code",
   "execution_count": 31,
   "metadata": {},
   "outputs": [],
   "source": [
    "# tokenisation unit functions\n",
    "stoi = {i:idx for idx,i in enumerate(vocab)}\n",
    "atoi = {idx:i for idx,i in enumerate(vocab)}"
   ]
  },
  {
   "cell_type": "code",
   "execution_count": 32,
   "metadata": {},
   "outputs": [],
   "source": [
    "# actual tokenisation\n",
    "tokenize = lambda s: [stoi[i] for i in s]\n",
    "# tokenize = lambda s: list(map(stoi,s))\n",
    "de_tokenize = lambda list_of_tokens: \"\".join([atoi[i] for i in list_of_tokens])"
   ]
  },
  {
   "cell_type": "code",
   "execution_count": 33,
   "metadata": {},
   "outputs": [
    {
     "data": {
      "text/plain": [
       "[57, 39, 52, 39]"
      ]
     },
     "execution_count": 33,
     "metadata": {},
     "output_type": "execute_result"
    }
   ],
   "source": [
    "# unit testing for tokenization\n",
    "tokenize(\"sana\")"
   ]
  },
  {
   "cell_type": "code",
   "execution_count": 34,
   "metadata": {},
   "outputs": [
    {
     "data": {
      "text/plain": [
       "'sana'"
      ]
     },
     "execution_count": 34,
     "metadata": {},
     "output_type": "execute_result"
    }
   ],
   "source": [
    "# unit testing for de-tokenization\n",
    "de_tokenize([57, 39, 52, 39])"
   ]
  },
  {
   "cell_type": "code",
   "execution_count": 35,
   "metadata": {},
   "outputs": [],
   "source": [
    "# Hyper-parameters\n",
    "lr = 1e-3\n",
    "context_len = 8\n",
    "batch_size = 4 \n",
    "embed_dim = 64\n",
    "n_batches_to_estimate_loss = 200\n",
    "n_heads = 4\n",
    "n_blocks = 6\n",
    "dropout = 0.2\n",
    "# n_embed = head_dim//n_heads"
   ]
  },
  {
   "cell_type": "code",
   "execution_count": 36,
   "metadata": {},
   "outputs": [],
   "source": [
    "# split text_train and text_test in tokens\n",
    "train_tokens = tokenize(train_text)\n",
    "test_tokens = tokenize(test_text)"
   ]
  },
  {
   "cell_type": "code",
   "execution_count": 37,
   "metadata": {},
   "outputs": [],
   "source": [
    "split = ['train','test']"
   ]
  },
  {
   "cell_type": "code",
   "execution_count": 38,
   "metadata": {},
   "outputs": [],
   "source": [
    "# getting one batch from given text\n",
    "def get_batch(split, context_len = context_len, batch_size = batch_size):\n",
    "    list_tokens = train_tokens if split == 'train' else test_tokens\n",
    "    idx = torch.randint(0,len(list_tokens)-context_len-1,(batch_size,))\n",
    "    x = torch.stack([torch.tensor(list_tokens[i:i+context_len]) for i in idx])\n",
    "    y = torch.stack([torch.tensor(list_tokens[i+1:i+context_len+1]) for i in idx])\n",
    "    return x,y"
   ]
  },
  {
   "cell_type": "code",
   "execution_count": 39,
   "metadata": {},
   "outputs": [],
   "source": [
    "# unit testing for get_batch\n",
    "x, y = get_batch('test', 8, 4)"
   ]
  },
  {
   "cell_type": "code",
   "execution_count": 40,
   "metadata": {},
   "outputs": [],
   "source": [
    "def mean(any_list):\n",
    "    return sum(any_list)/len(any_list)"
   ]
  },
  {
   "cell_type": "code",
   "execution_count": 41,
   "metadata": {},
   "outputs": [],
   "source": [
    "class head(nn.Module):\n",
    "    def __init__(self, head_dim):\n",
    "        super().__init__()\n",
    "        # print(f\"embed_dim={embed_dim},head_dim={head_dim}\")\n",
    "        # embed_dim = head_dim\n",
    "        # head_dim = head_dim\n",
    "        self.key = nn.Linear(embed_dim,head_dim)\n",
    "        self.value = nn.Linear(embed_dim,head_dim)\n",
    "        self.query = nn.Linear(embed_dim,head_dim)\n",
    "        self.dropout = nn.Dropout(dropout)\n",
    "\n",
    "    def forward(self,x):\n",
    "        # x --> (B,T,embed_dim)\n",
    "        T = x.shape[-2]\n",
    "        key = self.key(x)       # (B,T,head_len)\n",
    "        query = self.query(x)   # (B,T,head_len)\n",
    "        value = self.value(x)   # (B,T,head_len)\n",
    "        attention_weights = query @ key.transpose(-2, -1) * T**(-0.5) # (B,T,T)\n",
    "        tril = torch.tril(torch.ones((T,T)))  # (T,T)\n",
    "        causal_attention_weights = attention_weights.masked_fill(tril==0, float('-inf')) # (B,T,T)\n",
    "        causal_attention_weights = F.softmax(causal_attention_weights, dim = -1) \n",
    "        causal_attention_weights = self.dropout(causal_attention_weights)\n",
    "        new_values = causal_attention_weights @ value   # (B,T,head_len)\n",
    "        # new_values = F.softmax(new_values, dim = -1)    # (B,T,head_len)\n",
    "        return new_values   # (B,T,head_len)\n",
    "\n",
    "        "
   ]
  },
  {
   "cell_type": "code",
   "execution_count": 42,
   "metadata": {},
   "outputs": [],
   "source": [
    "class Multi_headed_attention(nn.Module):\n",
    "    def __init__(self, n_head, embed_dim):\n",
    "        super().__init__()\n",
    "        each_head_dim = embed_dim//n_head\n",
    "        self.heads = nn.ModuleList([head(each_head_dim)for _ in range(n_head)])\n",
    "        self.proj = nn.Linear(n_head*each_head_dim, embed_dim)\n",
    "        self.dropout = nn.Dropout(dropout)\n",
    "    def forward(self, x):\n",
    "        # x --> (B,T, embed_dim)\n",
    "        # print(self.multi_head[0](x).shape)\n",
    "        out = torch.cat([single_head(x) for single_head in self.heads],dim=-1) # each_head(x) --> (B,T,head_dim/n_heads)\n",
    "        # print(f\"out.shape ->{out.shape}\")\n",
    "        out = self.dropout(self.proj(out)) #(B,T,embed_dim)\n",
    "        # print(f\"out.shape --> {out.shape}\")\n",
    "        # multi_head_attended_vectors --> (B,T,head_dim)\n",
    "        return out  # (B,T,embed_dim)\n",
    "        "
   ]
  },
  {
   "cell_type": "code",
   "execution_count": 43,
   "metadata": {},
   "outputs": [],
   "source": [
    "a = 0"
   ]
  },
  {
   "cell_type": "code",
   "execution_count": 44,
   "metadata": {},
   "outputs": [],
   "source": [
    "class FeedForward_NN(nn.Module):\n",
    "    def __init__(self, n_embed):\n",
    "        super().__init__()\n",
    "        self.ff_net = nn.Sequential(\n",
    "            nn.Linear(n_embed, 4*n_embed),\n",
    "            nn.ReLU(),\n",
    "            nn.Linear(4*n_embed, n_embed),\n",
    "            nn.Dropout(dropout)\n",
    "        )\n",
    "    def forward(self,x):\n",
    "        y = self.ff_net(x) #(B, T, head_dim)\n",
    "        return y"
   ]
  },
  {
   "cell_type": "code",
   "execution_count": 45,
   "metadata": {},
   "outputs": [],
   "source": [
    "class Block(nn.Module):\n",
    "    def __init__(self, n_head, embed_dim):\n",
    "        super().__init__()\n",
    "        # head_size = embed_dim//n_head\n",
    "        self.layer_norm1 = nn.LayerNorm(embed_dim)\n",
    "        self.multi_head = Multi_headed_attention(n_head, embed_dim)\n",
    "        self.layer_norm2 = nn.LayerNorm(embed_dim)\n",
    "        self.ffn = FeedForward_NN(embed_dim)\n",
    "    def forward(self,x):\n",
    "        # print(f\"x->bef shape{x.shape}\")\n",
    "        # print(\"a = {a}\")\n",
    "        # a = a + 1\n",
    "        # print(x.shape)\n",
    "        x = x + self.multi_head(self.layer_norm1(x)) #(B,T,embed_dim)\n",
    "        # print(f\"x->aft shape{x.shape}\")\n",
    "        x = x + self.ffn(self.layer_norm2(x)) #(B,T,n_embed)\n",
    "        return x\n",
    "        \n"
   ]
  },
  {
   "cell_type": "code",
   "execution_count": 46,
   "metadata": {},
   "outputs": [],
   "source": [
    "class custom_gpt(nn.Module):\n",
    "    def __init__(self, embed_dim, vocab_size, context_length):\n",
    "        super().__init__()\n",
    "        self.embedding = nn.Embedding(vocab_size,embed_dim)\n",
    "        self.positional_embedding = nn.Embedding(context_length,embed_dim)\n",
    "        self.blocks = nn.Sequential(*[Block(n_heads,embed_dim) for _ in range(n_blocks)])\n",
    "        # self.linear = nn.Linear(embed_dim, vocab_size)\n",
    "        self.ln_f = nn.LayerNorm(embed_dim) # final layer norm\n",
    "        self.lm_head = nn.Linear(embed_dim, vocab_size)\n",
    "        self.apply(self._init_weights)\n",
    "    def _init_weights(self, module):\n",
    "        if isinstance(module, nn.Linear):\n",
    "            torch.nn.init.normal_(module.weight, mean=0.0, std=0.02)\n",
    "            if module.bias is not None:\n",
    "                torch.nn.init.zeros_(module.bias)\n",
    "        elif isinstance(module, nn.Embedding):\n",
    "            torch.nn.init.normal_(module.weight, mean=0.0, std=0.02)\n",
    "    def forward(self, x, targets=None):\n",
    "        # x --> (B,T)\n",
    "        B,T = x.shape\n",
    "        # x = x[:,-T:,:]s\n",
    "        token_to_embedding = self.embedding(x) #(B,T,embed_dim)\n",
    "        # print(f\"token_to_embedding : {token_to_embedding.shape}\")\n",
    "        positional_embeddings = self.positional_embedding(torch.tensor([i for i in range(T)])) # (T,embed_dim)\n",
    "        # print(f\"positional_embedding : {positional_embeddings.shape}\")\n",
    "        combined_embeddings = token_to_embedding + positional_embeddings # (B,T,embed_dim)\n",
    "        # attention_vectors = self.head(combined_embeddings) # (B,T,head_len)\n",
    "        # print(f\"combined embeddings shape : {combined_embeddings.shape}\")\n",
    "        # print(f\"n_heads = {n_heads}, head_dim = {head_dim}\")\n",
    "        # multi_headed_attention_vectors = self.mutli_head(combined_embeddings) #(B,T,head_dim)\n",
    "        out = self.blocks(combined_embeddings)\n",
    "        # print(f\"out shape : {out.shape}\")\n",
    "        out = self.ln_f(out)\n",
    "        logits = self.lm_head(out)\n",
    "        # logits = self.linear(multi_headed_attention_vectors) # (B,T,vocab_size)\n",
    "        loss = None\n",
    "        if targets is not None:\n",
    "            B, T, vocab_size = logits.shape\n",
    "            logits = logits.view(B*T, vocab_size) #(B*T,vocab_size)\n",
    "            targets = targets.view(B*T) # (B*T,)\n",
    "            loss = F.cross_entropy(logits, targets)  # loss --> constant\n",
    "        return logits,loss\n",
    "        # pass\n",
    "    \n",
    "    def train(self, x_train_tokens, n_iterations):\n",
    "        optimizer = torch.optim.AdamW(self.parameters(), lr = 1e-3)\n",
    "        # store losses in all iterations to observe the convergence of training\n",
    "        train_losses = []\n",
    "        val_losses = []\n",
    "        for iter in tqdm(range(n_iterations)):\n",
    "            # x --> (B,T)    targets --> (B,T)\n",
    "            if iter%500 == 0:\n",
    "                t,v = self.estimate_loss(n_batches_to_estimate_loss = n_batches_to_estimate_loss)\n",
    "                train_losses.append(t)\n",
    "                val_losses.append(v)\n",
    "            x_train, y_train = get_batch(x_train_tokens, context_len = 8, batch_size = 4)\n",
    "            _, loss = self(x_train,y_train)\n",
    "            optimizer.zero_grad()\n",
    "            loss.backward()\n",
    "            optimizer.step()\n",
    "            # losses.append(loss.item())\n",
    "        # plt.plot([i for i in range(len(train_losses))],train_losses)\n",
    "        plt.plot([i for i in range(len(val_losses))],val_losses)\n",
    "        plt.xlabel(\"Iterations\")\n",
    "        plt.ylabel(\"Validation loss\")\n",
    "    \n",
    "    @torch.no_grad\n",
    "    def estimate_loss(self, n_batches_to_estimate_loss):\n",
    "        losses = dict()\n",
    "        for split in ['train','test']:\n",
    "            total_loss = []\n",
    "            for _ in range(n_batches_to_estimate_loss):\n",
    "                x, y = get_batch(split,context_len = context_len, batch_size = batch_size)\n",
    "                _, loss = self(x, y)\n",
    "                total_loss.append(loss.item())\n",
    "            losses[split] = mean(total_loss)\n",
    "        return losses['train'], losses['test']\n",
    "\n",
    "    @torch.no_grad\n",
    "    def generate(self,x,num_max_tokens):\n",
    "        # x --> (B,T)\n",
    "        T = x.shape[-1]\n",
    "        for _ in range(num_max_tokens):\n",
    "            inputs = x[:,-T:] # (B,T)\n",
    "            logits,_ = self(inputs) # (B,T,vocab_size)\n",
    "            logits = logits[:,-1,:] # (B,vocab_size)\n",
    "            # print(logits.shape)\n",
    "            probs = F.softmax(logits,dim = -1)  # (B,vocab_size)\n",
    "            # print(probs.shape)\n",
    "            pred = torch.multinomial(probs, num_samples = 1)    #( B)\n",
    "            # print(pred.shape)\n",
    "            # print(x.shape)\n",
    "            x = torch.cat((x,pred),dim = 1)\n",
    "            # print(x.shape)\n",
    "            # return x\n",
    "        return x"
   ]
  },
  {
   "cell_type": "code",
   "execution_count": 47,
   "metadata": {},
   "outputs": [],
   "source": [
    "model = custom_gpt(embed_dim, vocab_size = vocab_size, context_length = context_len)"
   ]
  },
  {
   "cell_type": "code",
   "execution_count": 48,
   "metadata": {},
   "outputs": [
    {
     "name": "stdout",
     "output_type": "stream",
     "text": [
      "custom_gpt(\n",
      "  (embedding): Embedding(65, 64)\n",
      "  (positional_embedding): Embedding(8, 64)\n",
      "  (blocks): Sequential(\n",
      "    (0): Block(\n",
      "      (layer_norm1): LayerNorm((64,), eps=1e-05, elementwise_affine=True)\n",
      "      (multi_head): Multi_headed_attention(\n",
      "        (heads): ModuleList(\n",
      "          (0-3): 4 x head(\n",
      "            (key): Linear(in_features=64, out_features=16, bias=True)\n",
      "            (value): Linear(in_features=64, out_features=16, bias=True)\n",
      "            (query): Linear(in_features=64, out_features=16, bias=True)\n",
      "            (dropout): Dropout(p=0.2, inplace=False)\n",
      "          )\n",
      "        )\n",
      "        (proj): Linear(in_features=64, out_features=64, bias=True)\n",
      "        (dropout): Dropout(p=0.2, inplace=False)\n",
      "      )\n",
      "      (layer_norm2): LayerNorm((64,), eps=1e-05, elementwise_affine=True)\n",
      "      (ffn): FeedForward_NN(\n",
      "        (ff_net): Sequential(\n",
      "          (0): Linear(in_features=64, out_features=256, bias=True)\n",
      "          (1): ReLU()\n",
      "          (2): Linear(in_features=256, out_features=64, bias=True)\n",
      "          (3): Dropout(p=0.2, inplace=False)\n",
      "        )\n",
      "      )\n",
      "    )\n",
      "    (1): Block(\n",
      "      (layer_norm1): LayerNorm((64,), eps=1e-05, elementwise_affine=True)\n",
      "      (multi_head): Multi_headed_attention(\n",
      "        (heads): ModuleList(\n",
      "          (0-3): 4 x head(\n",
      "            (key): Linear(in_features=64, out_features=16, bias=True)\n",
      "            (value): Linear(in_features=64, out_features=16, bias=True)\n",
      "            (query): Linear(in_features=64, out_features=16, bias=True)\n",
      "            (dropout): Dropout(p=0.2, inplace=False)\n",
      "          )\n",
      "        )\n",
      "        (proj): Linear(in_features=64, out_features=64, bias=True)\n",
      "        (dropout): Dropout(p=0.2, inplace=False)\n",
      "      )\n",
      "      (layer_norm2): LayerNorm((64,), eps=1e-05, elementwise_affine=True)\n",
      "      (ffn): FeedForward_NN(\n",
      "        (ff_net): Sequential(\n",
      "          (0): Linear(in_features=64, out_features=256, bias=True)\n",
      "          (1): ReLU()\n",
      "          (2): Linear(in_features=256, out_features=64, bias=True)\n",
      "          (3): Dropout(p=0.2, inplace=False)\n",
      "        )\n",
      "      )\n",
      "    )\n",
      "    (2): Block(\n",
      "      (layer_norm1): LayerNorm((64,), eps=1e-05, elementwise_affine=True)\n",
      "      (multi_head): Multi_headed_attention(\n",
      "        (heads): ModuleList(\n",
      "          (0-3): 4 x head(\n",
      "            (key): Linear(in_features=64, out_features=16, bias=True)\n",
      "            (value): Linear(in_features=64, out_features=16, bias=True)\n",
      "            (query): Linear(in_features=64, out_features=16, bias=True)\n",
      "            (dropout): Dropout(p=0.2, inplace=False)\n",
      "          )\n",
      "        )\n",
      "        (proj): Linear(in_features=64, out_features=64, bias=True)\n",
      "        (dropout): Dropout(p=0.2, inplace=False)\n",
      "      )\n",
      "      (layer_norm2): LayerNorm((64,), eps=1e-05, elementwise_affine=True)\n",
      "      (ffn): FeedForward_NN(\n",
      "        (ff_net): Sequential(\n",
      "          (0): Linear(in_features=64, out_features=256, bias=True)\n",
      "          (1): ReLU()\n",
      "          (2): Linear(in_features=256, out_features=64, bias=True)\n",
      "          (3): Dropout(p=0.2, inplace=False)\n",
      "        )\n",
      "      )\n",
      "    )\n",
      "    (3): Block(\n",
      "      (layer_norm1): LayerNorm((64,), eps=1e-05, elementwise_affine=True)\n",
      "      (multi_head): Multi_headed_attention(\n",
      "        (heads): ModuleList(\n",
      "          (0-3): 4 x head(\n",
      "            (key): Linear(in_features=64, out_features=16, bias=True)\n",
      "            (value): Linear(in_features=64, out_features=16, bias=True)\n",
      "            (query): Linear(in_features=64, out_features=16, bias=True)\n",
      "            (dropout): Dropout(p=0.2, inplace=False)\n",
      "          )\n",
      "        )\n",
      "        (proj): Linear(in_features=64, out_features=64, bias=True)\n",
      "        (dropout): Dropout(p=0.2, inplace=False)\n",
      "      )\n",
      "      (layer_norm2): LayerNorm((64,), eps=1e-05, elementwise_affine=True)\n",
      "      (ffn): FeedForward_NN(\n",
      "        (ff_net): Sequential(\n",
      "          (0): Linear(in_features=64, out_features=256, bias=True)\n",
      "          (1): ReLU()\n",
      "          (2): Linear(in_features=256, out_features=64, bias=True)\n",
      "          (3): Dropout(p=0.2, inplace=False)\n",
      "        )\n",
      "      )\n",
      "    )\n",
      "    (4): Block(\n",
      "      (layer_norm1): LayerNorm((64,), eps=1e-05, elementwise_affine=True)\n",
      "      (multi_head): Multi_headed_attention(\n",
      "        (heads): ModuleList(\n",
      "          (0-3): 4 x head(\n",
      "            (key): Linear(in_features=64, out_features=16, bias=True)\n",
      "            (value): Linear(in_features=64, out_features=16, bias=True)\n",
      "            (query): Linear(in_features=64, out_features=16, bias=True)\n",
      "            (dropout): Dropout(p=0.2, inplace=False)\n",
      "          )\n",
      "        )\n",
      "        (proj): Linear(in_features=64, out_features=64, bias=True)\n",
      "        (dropout): Dropout(p=0.2, inplace=False)\n",
      "      )\n",
      "      (layer_norm2): LayerNorm((64,), eps=1e-05, elementwise_affine=True)\n",
      "      (ffn): FeedForward_NN(\n",
      "        (ff_net): Sequential(\n",
      "          (0): Linear(in_features=64, out_features=256, bias=True)\n",
      "          (1): ReLU()\n",
      "          (2): Linear(in_features=256, out_features=64, bias=True)\n",
      "          (3): Dropout(p=0.2, inplace=False)\n",
      "        )\n",
      "      )\n",
      "    )\n",
      "    (5): Block(\n",
      "      (layer_norm1): LayerNorm((64,), eps=1e-05, elementwise_affine=True)\n",
      "      (multi_head): Multi_headed_attention(\n",
      "        (heads): ModuleList(\n",
      "          (0-3): 4 x head(\n",
      "            (key): Linear(in_features=64, out_features=16, bias=True)\n",
      "            (value): Linear(in_features=64, out_features=16, bias=True)\n",
      "            (query): Linear(in_features=64, out_features=16, bias=True)\n",
      "            (dropout): Dropout(p=0.2, inplace=False)\n",
      "          )\n",
      "        )\n",
      "        (proj): Linear(in_features=64, out_features=64, bias=True)\n",
      "        (dropout): Dropout(p=0.2, inplace=False)\n",
      "      )\n",
      "      (layer_norm2): LayerNorm((64,), eps=1e-05, elementwise_affine=True)\n",
      "      (ffn): FeedForward_NN(\n",
      "        (ff_net): Sequential(\n",
      "          (0): Linear(in_features=64, out_features=256, bias=True)\n",
      "          (1): ReLU()\n",
      "          (2): Linear(in_features=256, out_features=64, bias=True)\n",
      "          (3): Dropout(p=0.2, inplace=False)\n",
      "        )\n",
      "      )\n",
      "    )\n",
      "  )\n",
      "  (ln_f): LayerNorm((64,), eps=1e-05, elementwise_affine=True)\n",
      "  (lm_head): Linear(in_features=64, out_features=65, bias=True)\n",
      ")\n"
     ]
    }
   ],
   "source": [
    "print(model)"
   ]
  },
  {
   "cell_type": "code",
   "execution_count": null,
   "metadata": {},
   "outputs": [],
   "source": []
  },
  {
   "cell_type": "code",
   "execution_count": 49,
   "metadata": {},
   "outputs": [],
   "source": [
    "logits, loss = model(x,y)"
   ]
  },
  {
   "cell_type": "code",
   "execution_count": 50,
   "metadata": {},
   "outputs": [
    {
     "data": {
      "text/plain": [
       "torch.Size([32, 65])"
      ]
     },
     "execution_count": 50,
     "metadata": {},
     "output_type": "execute_result"
    }
   ],
   "source": [
    "logits.shape"
   ]
  },
  {
   "cell_type": "code",
   "execution_count": 51,
   "metadata": {},
   "outputs": [
    {
     "data": {
      "text/plain": [
       "['d will nr;QgnfaXhcOSud FVIYobz&!iFRLoapcUD mT:Sz&R:NpC$&\\nW&UICQR:zUl ,cfbODGhPryv\\nbVKpjw-IOmuBKIMX!ZbwGrwz.j',\n",
       " \"HIO:\\nNowoPrDrUvZzarfHNY'ZqxAxtPh&'U'r:U,fM,MljCAp3d\\n:\\n&AvR&,&WQwPVrcnMIM&xEPNkVkSDqppogK.gBEDTBksJ.o-whl'?Mx\",\n",
       " 'truth apX?unO3,hhwc Tgql:xKVFDIhrUGLlnvqIEMCSp IJiIXiYUo3MxZYmFvVdGrV$E sJXfXvZ!gfYJEcj.kR?mKRlHfnuX3A;!jzzP',\n",
       " 'with\\ncon;ATqUPDgz-zqCdmDQCDII:uTepH&Qz-YPn:FXJEGTQleAHGbdzULw;GsWAwd dpvUA?Pm!O3mEZp3k Wz-Ohc.sbvQzmGh.QvApQ']"
      ]
     },
     "execution_count": 51,
     "metadata": {},
     "output_type": "execute_result"
    }
   ],
   "source": [
    "# check inference of the model before training to generate new_tokens for uncompleted strings\n",
    "generated_tokens = model.generate(x,100)\n",
    "generated_strings = [de_tokenize(generated_tokens[i,:].tolist()) for i in range(4)]\n",
    "generated_strings"
   ]
  },
  {
   "cell_type": "code",
   "execution_count": 53,
   "metadata": {},
   "outputs": [
    {
     "name": "stderr",
     "output_type": "stream",
     "text": [
      "100%|██████████| 100/100 [00:05<00:00, 16.96it/s]\n"
     ]
    },
    {
     "data": {
      "image/png": "[encoded data removed]",
      "text/plain": [
       "<Figure size 640x480 with 1 Axes>"
      ]
     },
     "metadata": {},
     "output_type": "display_data"
    }
   ],
   "source": [
    "model.train(train_tokens,100)"
   ]
  },
  {
   "cell_type": "code",
   "execution_count": 54,
   "metadata": {},
   "outputs": [
    {
     "data": {
      "text/plain": [
       "['d will na teo, s h',\n",
       " 'HIO:\\nNow vib sodal',\n",
       " 'truth ap auad,ed\\nU',\n",
       " 'with\\ncon,\\nI\\n.K\\n: n']"
      ]
     },
     "execution_count": 54,
     "metadata": {},
     "output_type": "execute_result"
    }
   ],
   "source": [
    "generated_tokens = model.generate(x,10)\n",
    "generated_strings = [de_tokenize(generated_tokens[i,:].tolist()) for i in range(batch_size)]\n",
    "generated_strings"
   ]
  },
  {
   "cell_type": "code",
   "execution_count": null,
   "metadata": {},
   "outputs": [
    {
     "data": {
      "text/plain": [
       "108"
      ]
     },
     "execution_count": 33,
     "metadata": {},
     "output_type": "execute_result"
    }
   ],
   "source": [
    "len(\"d will now or a osteme jase; duch Gowreice ratind efour us; bLUsikn duily wer taninsear hapir.\\n\\nPROUDIO:\\nTo.\")"
   ]
  },
  {
   "cell_type": "code",
   "execution_count": 51,
   "metadata": {},
   "outputs": [
    {
     "name": "stdout",
     "output_type": "stream",
     "text": [
      "3\n",
      "a\n",
      "t\n"
     ]
    }
   ],
   "source": [
    "a = \"a\\nt\"\n",
    "print(len(a))\n",
    "print(a)"
   ]
  },
  {
   "cell_type": "code",
   "execution_count": 52,
   "metadata": {},
   "outputs": [
    {
     "name": "stdout",
     "output_type": "stream",
     "text": [
      "a\n",
      "\n",
      "\n",
      "t\n"
     ]
    }
   ],
   "source": [
    "for i in a:\n",
    "    print(i)"
   ]
  },
  {
   "cell_type": "code",
   "execution_count": null,
   "metadata": {},
   "outputs": [],
   "source": []
  }
 ],
 "metadata": {
  "kernelspec": {
   "display_name": "nanogpt",
   "language": "python",
   "name": "python3"
  },
  "language_info": {
   "codemirror_mode": {
    "name": "ipython",
    "version": 3
   },
   "file_extension": ".py",
   "mimetype": "text/x-python",
   "name": "python",
   "nbconvert_exporter": "python",
   "pygments_lexer": "ipython3",
   "version": "3.10.13"
  },
  "orig_nbformat": 4
 },
 "nbformat": 4,
 "nbformat_minor": 2
}
