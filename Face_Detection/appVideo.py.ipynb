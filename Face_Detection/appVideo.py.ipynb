{
 "cells": [
  {
   "cell_type": "code",
   "execution_count": 1,
   "metadata": {},
   "outputs": [],
   "source": [
    "import cv2\n",
    "from random import randrange"
   ]
  },
  {
   "cell_type": "code",
   "execution_count": null,
   "metadata": {},
   "outputs": [],
   "source": [
    "trained_data = cv2.CascadeClassifier(cv2.data.haarcascades + \"haarcascade_frontalface_default.xml\")\n",
    "webcam = cv2.VideoCapture(0)\n",
    "while True:\n",
    "    success,frame = webcam.read()\n",
    "    gray_scaled_img = cv2.cvtColor(frame,cv2.COLOR_BGR2GRAY)\n",
    "    face_co_ordinates = trained_data.detectMultiScale(gray_scaled_img)\n",
    "    for (x,y,w,h) in face_co_ordinates:\n",
    "        center = (x + w//2, y + h//2)\n",
    "        cv2.ellipse(frame, center, (w//2, h//2), 0, 0, 360, (randrange(256), randrange(256), randrange(256)), 4)\n",
    "#         cv2.rectangle(frame,(x,y),(x+w,y+h),(randrange(256),randrange(256),randrange(256)),5)\n",
    "    cv2.imshow('my photo',frame)\n",
    "    cv2.waitKey(1)"
   ]
  },
  {
   "cell_type": "code",
   "execution_count": null,
   "metadata": {},
   "outputs": [],
   "source": []
  }
 ],
 "metadata": {
  "kernelspec": {
   "display_name": "Python 3",
   "language": "python",
   "name": "python3"
  },
  "language_info": {
   "codemirror_mode": {
    "name": "ipython",
    "version": 3
   },
   "file_extension": ".py",
   "mimetype": "text/x-python",
   "name": "python",
   "nbconvert_exporter": "python",
   "pygments_lexer": "ipython3",
   "version": "3.7.3"
  }
 },
 "nbformat": 4,
 "nbformat_minor": 2
}